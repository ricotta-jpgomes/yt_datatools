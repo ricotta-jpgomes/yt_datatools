{
  "cells": [
    {
      "cell_type": "markdown",
      "metadata": {
        "id": "view-in-github",
        "colab_type": "text"
      },
      "source": [
        "<a href=\"https://colab.research.google.com/github/ricotta-jpgomes/yt_datatools/blob/main/ytSearch_video_v1.ipynb\" target=\"_parent\"><img src=\"https://colab.research.google.com/assets/colab-badge.svg\" alt=\"Open In Colab\"/></a>"
      ]
    },
    {
      "cell_type": "markdown",
      "source": [
        "# YouTube Video Search\n",
        "<br>"
      ],
      "metadata": {
        "id": "nHdpS8FUI9Zb"
      }
    },
    {
      "cell_type": "markdown",
      "source": [
        "Esse notebook apresenta uma sequência de código para buscar vídeos a partir de um termo definido pelo usuário, retornando um conjunto de dados sobre os vídeos encontrados em um arquivo .csv"
      ],
      "metadata": {
        "id": "k_Vm4aR0JIkj"
      }
    },
    {
      "cell_type": "code",
      "execution_count": null,
      "metadata": {
        "colab": {
          "base_uri": "https://localhost:8080/"
        },
        "id": "HwQI1_hST2mN",
        "outputId": "c81a7f5b-03d3-4d52-caa2-27db3c829723"
      },
      "outputs": [
        {
          "output_type": "stream",
          "name": "stdout",
          "text": [
            "Looking in indexes: https://pypi.org/simple, https://us-python.pkg.dev/colab-wheels/public/simple/\n",
            "Requirement already satisfied: google-api-python-client in /usr/local/lib/python3.7/dist-packages (1.12.11)\n",
            "Collecting google-api-python-client\n",
            "  Downloading google_api_python_client-2.64.0-py2.py3-none-any.whl (10.4 MB)\n",
            "\u001b[K     |████████████████████████████████| 10.4 MB 14.7 MB/s \n",
            "\u001b[?25hRequirement already satisfied: google-auth<3.0.0dev,>=1.19.0 in /usr/local/lib/python3.7/dist-packages (from google-api-python-client) (1.35.0)\n",
            "Collecting google-auth-httplib2>=0.1.0\n",
            "  Downloading google_auth_httplib2-0.1.0-py2.py3-none-any.whl (9.3 kB)\n",
            "Requirement already satisfied: google-api-core!=2.0.*,!=2.1.*,!=2.2.*,!=2.3.0,<3.0.0dev,>=1.31.5 in /usr/local/lib/python3.7/dist-packages (from google-api-python-client) (1.31.6)\n",
            "Requirement already satisfied: uritemplate<5,>=3.0.1 in /usr/local/lib/python3.7/dist-packages (from google-api-python-client) (3.0.1)\n",
            "Requirement already satisfied: httplib2<1dev,>=0.15.0 in /usr/local/lib/python3.7/dist-packages (from google-api-python-client) (0.17.4)\n",
            "Requirement already satisfied: requests<3.0.0dev,>=2.18.0 in /usr/local/lib/python3.7/dist-packages (from google-api-core!=2.0.*,!=2.1.*,!=2.2.*,!=2.3.0,<3.0.0dev,>=1.31.5->google-api-python-client) (2.23.0)\n",
            "Requirement already satisfied: six>=1.13.0 in /usr/local/lib/python3.7/dist-packages (from google-api-core!=2.0.*,!=2.1.*,!=2.2.*,!=2.3.0,<3.0.0dev,>=1.31.5->google-api-python-client) (1.15.0)\n",
            "Requirement already satisfied: googleapis-common-protos<2.0dev,>=1.6.0 in /usr/local/lib/python3.7/dist-packages (from google-api-core!=2.0.*,!=2.1.*,!=2.2.*,!=2.3.0,<3.0.0dev,>=1.31.5->google-api-python-client) (1.56.4)\n",
            "Requirement already satisfied: packaging>=14.3 in /usr/local/lib/python3.7/dist-packages (from google-api-core!=2.0.*,!=2.1.*,!=2.2.*,!=2.3.0,<3.0.0dev,>=1.31.5->google-api-python-client) (21.3)\n",
            "Requirement already satisfied: pytz in /usr/local/lib/python3.7/dist-packages (from google-api-core!=2.0.*,!=2.1.*,!=2.2.*,!=2.3.0,<3.0.0dev,>=1.31.5->google-api-python-client) (2022.4)\n",
            "Requirement already satisfied: setuptools>=40.3.0 in /usr/local/lib/python3.7/dist-packages (from google-api-core!=2.0.*,!=2.1.*,!=2.2.*,!=2.3.0,<3.0.0dev,>=1.31.5->google-api-python-client) (57.4.0)\n",
            "Requirement already satisfied: protobuf<4.0.0dev,>=3.12.0 in /usr/local/lib/python3.7/dist-packages (from google-api-core!=2.0.*,!=2.1.*,!=2.2.*,!=2.3.0,<3.0.0dev,>=1.31.5->google-api-python-client) (3.17.3)\n",
            "Requirement already satisfied: pyasn1-modules>=0.2.1 in /usr/local/lib/python3.7/dist-packages (from google-auth<3.0.0dev,>=1.19.0->google-api-python-client) (0.2.8)\n",
            "Requirement already satisfied: rsa<5,>=3.1.4 in /usr/local/lib/python3.7/dist-packages (from google-auth<3.0.0dev,>=1.19.0->google-api-python-client) (4.9)\n",
            "Requirement already satisfied: cachetools<5.0,>=2.0.0 in /usr/local/lib/python3.7/dist-packages (from google-auth<3.0.0dev,>=1.19.0->google-api-python-client) (4.2.4)\n",
            "Requirement already satisfied: pyparsing!=3.0.5,>=2.0.2 in /usr/local/lib/python3.7/dist-packages (from packaging>=14.3->google-api-core!=2.0.*,!=2.1.*,!=2.2.*,!=2.3.0,<3.0.0dev,>=1.31.5->google-api-python-client) (3.0.9)\n",
            "Requirement already satisfied: pyasn1<0.5.0,>=0.4.6 in /usr/local/lib/python3.7/dist-packages (from pyasn1-modules>=0.2.1->google-auth<3.0.0dev,>=1.19.0->google-api-python-client) (0.4.8)\n",
            "Requirement already satisfied: chardet<4,>=3.0.2 in /usr/local/lib/python3.7/dist-packages (from requests<3.0.0dev,>=2.18.0->google-api-core!=2.0.*,!=2.1.*,!=2.2.*,!=2.3.0,<3.0.0dev,>=1.31.5->google-api-python-client) (3.0.4)\n",
            "Requirement already satisfied: certifi>=2017.4.17 in /usr/local/lib/python3.7/dist-packages (from requests<3.0.0dev,>=2.18.0->google-api-core!=2.0.*,!=2.1.*,!=2.2.*,!=2.3.0,<3.0.0dev,>=1.31.5->google-api-python-client) (2022.9.24)\n",
            "Requirement already satisfied: urllib3!=1.25.0,!=1.25.1,<1.26,>=1.21.1 in /usr/local/lib/python3.7/dist-packages (from requests<3.0.0dev,>=2.18.0->google-api-core!=2.0.*,!=2.1.*,!=2.2.*,!=2.3.0,<3.0.0dev,>=1.31.5->google-api-python-client) (1.24.3)\n",
            "Requirement already satisfied: idna<3,>=2.5 in /usr/local/lib/python3.7/dist-packages (from requests<3.0.0dev,>=2.18.0->google-api-core!=2.0.*,!=2.1.*,!=2.2.*,!=2.3.0,<3.0.0dev,>=1.31.5->google-api-python-client) (2.10)\n",
            "Installing collected packages: google-auth-httplib2, google-api-python-client\n",
            "  Attempting uninstall: google-auth-httplib2\n",
            "    Found existing installation: google-auth-httplib2 0.0.4\n",
            "    Uninstalling google-auth-httplib2-0.0.4:\n",
            "      Successfully uninstalled google-auth-httplib2-0.0.4\n",
            "  Attempting uninstall: google-api-python-client\n",
            "    Found existing installation: google-api-python-client 1.12.11\n",
            "    Uninstalling google-api-python-client-1.12.11:\n",
            "      Successfully uninstalled google-api-python-client-1.12.11\n",
            "\u001b[31mERROR: pip's dependency resolver does not currently take into account all the packages that are installed. This behaviour is the source of the following dependency conflicts.\n",
            "earthengine-api 0.1.326 requires google-api-python-client<2,>=1.12.1, but you have google-api-python-client 2.64.0 which is incompatible.\u001b[0m\n",
            "Successfully installed google-api-python-client-2.64.0 google-auth-httplib2-0.1.0\n"
          ]
        }
      ],
      "source": [
        "!pip install --upgrade google-api-python-client"
      ]
    },
    {
      "cell_type": "code",
      "source": [
        "! pip install python_dotenv"
      ],
      "metadata": {
        "colab": {
          "base_uri": "https://localhost:8080/"
        },
        "id": "o3L3ibrFDBgU",
        "outputId": "19ad50b1-1cd7-444d-e8c6-c9837909dbc1"
      },
      "execution_count": null,
      "outputs": [
        {
          "output_type": "stream",
          "name": "stdout",
          "text": [
            "Looking in indexes: https://pypi.org/simple, https://us-python.pkg.dev/colab-wheels/public/simple/\n",
            "Requirement already satisfied: python_dotenv in /usr/local/lib/python3.7/dist-packages (0.21.0)\n"
          ]
        }
      ]
    },
    {
      "cell_type": "code",
      "source": [
        "from google.colab import drive\n",
        "drive.mount('/content/drive')"
      ],
      "metadata": {
        "colab": {
          "base_uri": "https://localhost:8080/"
        },
        "id": "J5e4muc9rkcJ",
        "outputId": "6a089e08-440e-4470-ea44-0e6ed7dc136d"
      },
      "execution_count": null,
      "outputs": [
        {
          "output_type": "stream",
          "name": "stdout",
          "text": [
            "Mounted at /content/drive\n"
          ]
        }
      ]
    },
    {
      "cell_type": "code",
      "execution_count": null,
      "metadata": {
        "id": "3i5Qe7qKWems"
      },
      "outputs": [],
      "source": [
        "from googleapiclient.discovery import build\n",
        "from datetime import datetime, timedelta, timezone, date\n",
        "from dotenv import load_dotenv # bibilioteca para ler minha api_key salva como uma variável de ambiente.\n",
        "\n",
        "import os \n",
        "import pandas as pd"
      ]
    },
    {
      "cell_type": "code",
      "execution_count": null,
      "metadata": {
        "id": "9ZTKjraAWynd",
        "colab": {
          "base_uri": "https://localhost:8080/"
        },
        "outputId": "7591c517-bca5-4d64-fbe7-ce74c6ea2238"
      },
      "outputs": [
        {
          "output_type": "execute_result",
          "data": {
            "text/plain": [
              "True"
            ]
          },
          "metadata": {},
          "execution_count": 12
        }
      ],
      "source": [
        "# Carregando variáveis de ambiente\n",
        "load_dotenv('/content/drive/MyDrive/Colab Notebooks/youTube/.env') # Tudo certo!"
      ]
    },
    {
      "cell_type": "code",
      "source": [
        "API_KEY = os.environ['api_key']"
      ],
      "metadata": {
        "id": "QUIdD0oRD61Q"
      },
      "execution_count": null,
      "outputs": []
    },
    {
      "cell_type": "code",
      "execution_count": null,
      "metadata": {
        "id": "Uqjf95fVW-a6"
      },
      "outputs": [],
      "source": [
        "youtube = build('youtube','v3', developerKey=API_KEY)"
      ]
    },
    {
      "cell_type": "code",
      "execution_count": null,
      "metadata": {
        "id": "oHAnIV0XXRFI"
      },
      "outputs": [],
      "source": [
        "query = input()\n",
        "nextPage_token = None"
      ]
    },
    {
      "cell_type": "code",
      "execution_count": null,
      "metadata": {
        "id": "d2x0HNxJXoKZ"
      },
      "outputs": [],
      "source": [
        "videos = []\n",
        "\n",
        "while True:\n",
        "  search_response = youtube.search().list(\n",
        "    q=query, \n",
        "    part='snippet', \n",
        "    type='video',\n",
        "    maxResults = 50,\n",
        "    pageToken = nextPage_token\n",
        "    ).execute()\n",
        "\n",
        "  for search_result in search_response.get('items'):\n",
        "      videos.append(search_result)\n",
        "      \n",
        "  nextPage_token = search_response.get('nextPageToken')\n",
        "  if nextPage_token is None:\n",
        "    break"
      ]
    },
    {
      "cell_type": "code",
      "source": [
        "videos_ids = list(map(lambda x : x['id']['videoId'], videos))"
      ],
      "metadata": {
        "id": "yd2w3jq5WppN"
      },
      "execution_count": null,
      "outputs": []
    },
    {
      "cell_type": "code",
      "source": [
        "videos_stats = []\n",
        "\n",
        "for id in videos_ids:\n",
        "  res = youtube.videos().list(part='statistics', id=id).execute()\n",
        "  videos_stats.append(res['items'][0])"
      ],
      "metadata": {
        "id": "E3K0sYXYashZ"
      },
      "execution_count": null,
      "outputs": []
    },
    {
      "cell_type": "code",
      "execution_count": null,
      "metadata": {
        "id": "qoFw0b-idJ8C"
      },
      "outputs": [],
      "source": [
        "videos_titles = list(map(lambda x: x['snippet']['title'], videos))\n",
        "videos_descriptions = list(map(lambda x: x['snippet']['description'], videos))\n",
        "channels_ids = list(map(lambda x: x['snippet']['channelId'], videos))\n",
        "channels_titles = list(map(lambda x: x['snippet']['channelTitle'], videos))\n",
        "published_date = list(map(lambda x: str(x['snippet']['publishedAt']), videos)) "
      ]
    },
    {
      "cell_type": "code",
      "source": [
        "views = list(map(lambda x: int(x['statistics']['viewCount']), videos_stats))"
      ],
      "metadata": {
        "id": "w3T_-Nr4hXZQ"
      },
      "execution_count": null,
      "outputs": []
    },
    {
      "cell_type": "code",
      "source": [
        "likes = []\n",
        "comments = []\n",
        "\n",
        "for stat in videos_stats:\n",
        "  s = stat['statistics']\n",
        "\n",
        "  if 'commentCount' in s:\n",
        "      comments.append( int(s['commentCount']) )\n",
        "  else:\n",
        "      comments.append( 0 )\n",
        "\n",
        "  if 'likeCount' in s:\n",
        "      likes.append( int(s['likeCount']) )\n",
        "  else:\n",
        "      likes.append( 0 )"
      ],
      "metadata": {
        "id": "mLvLg3lzpyPG"
      },
      "execution_count": null,
      "outputs": []
    },
    {
      "cell_type": "code",
      "execution_count": null,
      "metadata": {
        "id": "c_Q5r6C-fMIy"
      },
      "outputs": [],
      "source": [
        "diff = timedelta(hours = -3)\n",
        "\n",
        "t_zone = timezone(diff)\n",
        "\n",
        "extraction_date = [str(datetime.now(tz = t_zone))]*len(videos)\n",
        "extraction_day = date.today()"
      ]
    },
    {
      "cell_type": "code",
      "execution_count": null,
      "metadata": {
        "colab": {
          "base_uri": "https://localhost:8080/"
        },
        "id": "orVTA3hDfukH",
        "outputId": "61c0b6a5-6dcc-4974-9796-eb850d8ceeb6"
      },
      "outputs": [
        {
          "name": "stdout",
          "output_type": "stream",
          "text": [
            "Insira aqui o nome do arquivo: maconaria\n"
          ]
        }
      ],
      "source": [
        "videos_df = pd.DataFrame({\n",
        "    'id' : videos_ids,\n",
        "    'title' : videos_titles,\n",
        "    'description' : videos_descriptions,\n",
        "    'publishedAt' : published_date,\n",
        "    'extractedAt' : extraction_date,\n",
        "    'channelId' : channels_ids,\n",
        "    'channelTitle' :channels_titles,\n",
        "    'views' : views,\n",
        "    'likes' : likes,\n",
        "    'comments' : comments\n",
        "    })\n",
        "\n",
        "file_name = input('Insira aqui o nome do arquivo: ') + f'_{extraction_day}'\n",
        "videos_df.to_csv(f'/content/drive/MyDrive/Datasets/{file_name}.csv', index = False)"
      ]
    }
  ],
  "metadata": {
    "colab": {
      "provenance": [],
      "include_colab_link": true
    },
    "kernelspec": {
      "display_name": "Python 3.9.7 64-bit",
      "language": "python",
      "name": "python3"
    },
    "language_info": {
      "name": "python",
      "version": "3.9.7"
    },
    "vscode": {
      "interpreter": {
        "hash": "1f0e6e82f76565d179ba3e7b4f3766adc29c2e9c8a5d83c58b8c627b6db43585"
      }
    }
  },
  "nbformat": 4,
  "nbformat_minor": 0
}