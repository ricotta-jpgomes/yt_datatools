{
  "cells": [
    {
      "cell_type": "markdown",
      "metadata": {
        "id": "view-in-github",
        "colab_type": "text"
      },
      "source": [
        "<a href=\"https://colab.research.google.com/github/ricotta-jpgomes/yt_datatools/blob/main/ytRelated_extractor_v1/getEdges_module.ipynb\" target=\"_parent\"><img src=\"https://colab.research.google.com/assets/colab-badge.svg\" alt=\"Open In Colab\"/></a>"
      ]
    },
    {
      "cell_type": "markdown",
      "metadata": {
        "id": "T4SQ_ndbx21t"
      },
      "source": [
        "# Get edges: extraindo as coordenadas da nossa rede de vídeos recomendados\n",
        "\n"
      ]
    },
    {
      "cell_type": "markdown",
      "metadata": {
        "id": "ubN-e9OmyFEa"
      },
      "source": [
        "Este notebook consiste em uma sequência de código para extrair vídeos relacionados a um vídeo seed, determinado pelo usuário, e gerar um arquivo .csv do tipo source - target, representando as coordenadas da nossa rede, ou seja, como os vídeos se recomendam. \n",
        "\n",
        "Nesta etapa, eu esgoto o limite diário da API 😰, e por conta disso implementei um log simples em um arquivo .txt para proceder o resto da extração no dia seguinte, quando a cota é restaurada (o código onde eu obtenho os detalhes dos vídeos capturados nessa primeira etapa pode ser encontrado [aqui](https://colab.research.google.com/drive/1DvzGCuXJbrrdqLAvZJURNPkC9gV3LwUm?usp=sharing). Deste modo, consigo obter uma profundidade maior na minha rede, ao realizar mais iterações sobre os vídeos recomendados (recomendados dos recomendados e por aí vai). A quantidade máxima de iterações obtidas com esse notebook, até o limite diário da API, é de 2, para 10 recomendados por vídeo desde a seed.  \n"
      ]
    },
    {
      "cell_type": "markdown",
      "metadata": {
        "id": "Gakcp2h60vUu"
      },
      "source": [
        "##1. Instalando Dependências"
      ]
    },
    {
      "cell_type": "code",
      "execution_count": null,
      "metadata": {
        "colab": {
          "base_uri": "https://localhost:8080/"
        },
        "id": "HwQI1_hST2mN",
        "outputId": "e6d5af5f-b038-489e-d973-32b5514eca6d"
      },
      "outputs": [
        {
          "output_type": "stream",
          "name": "stdout",
          "text": [
            "Looking in indexes: https://pypi.org/simple, https://us-python.pkg.dev/colab-wheels/public/simple/\n",
            "Requirement already satisfied: google-api-python-client in /usr/local/lib/python3.8/dist-packages (1.12.11)\n",
            "Collecting google-api-python-client\n",
            "  Downloading google_api_python_client-2.70.0-py2.py3-none-any.whl (10.7 MB)\n",
            "\u001b[K     |████████████████████████████████| 10.7 MB 4.2 MB/s \n",
            "\u001b[?25hRequirement already satisfied: google-api-core!=2.0.*,!=2.1.*,!=2.2.*,!=2.3.0,<3.0.0dev,>=1.31.5 in /usr/local/lib/python3.8/dist-packages (from google-api-python-client) (2.8.2)\n",
            "Requirement already satisfied: httplib2<1dev,>=0.15.0 in /usr/local/lib/python3.8/dist-packages (from google-api-python-client) (0.17.4)\n",
            "Requirement already satisfied: uritemplate<5,>=3.0.1 in /usr/local/lib/python3.8/dist-packages (from google-api-python-client) (3.0.1)\n",
            "Requirement already satisfied: google-auth<3.0.0dev,>=1.19.0 in /usr/local/lib/python3.8/dist-packages (from google-api-python-client) (2.15.0)\n",
            "Collecting google-auth-httplib2>=0.1.0\n",
            "  Downloading google_auth_httplib2-0.1.0-py2.py3-none-any.whl (9.3 kB)\n",
            "Requirement already satisfied: protobuf<5.0.0dev,>=3.15.0 in /usr/local/lib/python3.8/dist-packages (from google-api-core!=2.0.*,!=2.1.*,!=2.2.*,!=2.3.0,<3.0.0dev,>=1.31.5->google-api-python-client) (3.19.6)\n",
            "Requirement already satisfied: requests<3.0.0dev,>=2.18.0 in /usr/local/lib/python3.8/dist-packages (from google-api-core!=2.0.*,!=2.1.*,!=2.2.*,!=2.3.0,<3.0.0dev,>=1.31.5->google-api-python-client) (2.23.0)\n",
            "Requirement already satisfied: googleapis-common-protos<2.0dev,>=1.56.2 in /usr/local/lib/python3.8/dist-packages (from google-api-core!=2.0.*,!=2.1.*,!=2.2.*,!=2.3.0,<3.0.0dev,>=1.31.5->google-api-python-client) (1.57.0)\n",
            "Requirement already satisfied: cachetools<6.0,>=2.0.0 in /usr/local/lib/python3.8/dist-packages (from google-auth<3.0.0dev,>=1.19.0->google-api-python-client) (5.2.0)\n",
            "Requirement already satisfied: rsa<5,>=3.1.4 in /usr/local/lib/python3.8/dist-packages (from google-auth<3.0.0dev,>=1.19.0->google-api-python-client) (4.9)\n",
            "Requirement already satisfied: six>=1.9.0 in /usr/local/lib/python3.8/dist-packages (from google-auth<3.0.0dev,>=1.19.0->google-api-python-client) (1.15.0)\n",
            "Requirement already satisfied: pyasn1-modules>=0.2.1 in /usr/local/lib/python3.8/dist-packages (from google-auth<3.0.0dev,>=1.19.0->google-api-python-client) (0.2.8)\n",
            "Requirement already satisfied: pyasn1<0.5.0,>=0.4.6 in /usr/local/lib/python3.8/dist-packages (from pyasn1-modules>=0.2.1->google-auth<3.0.0dev,>=1.19.0->google-api-python-client) (0.4.8)\n",
            "Requirement already satisfied: certifi>=2017.4.17 in /usr/local/lib/python3.8/dist-packages (from requests<3.0.0dev,>=2.18.0->google-api-core!=2.0.*,!=2.1.*,!=2.2.*,!=2.3.0,<3.0.0dev,>=1.31.5->google-api-python-client) (2022.12.7)\n",
            "Requirement already satisfied: idna<3,>=2.5 in /usr/local/lib/python3.8/dist-packages (from requests<3.0.0dev,>=2.18.0->google-api-core!=2.0.*,!=2.1.*,!=2.2.*,!=2.3.0,<3.0.0dev,>=1.31.5->google-api-python-client) (2.10)\n",
            "Requirement already satisfied: urllib3!=1.25.0,!=1.25.1,<1.26,>=1.21.1 in /usr/local/lib/python3.8/dist-packages (from requests<3.0.0dev,>=2.18.0->google-api-core!=2.0.*,!=2.1.*,!=2.2.*,!=2.3.0,<3.0.0dev,>=1.31.5->google-api-python-client) (1.24.3)\n",
            "Requirement already satisfied: chardet<4,>=3.0.2 in /usr/local/lib/python3.8/dist-packages (from requests<3.0.0dev,>=2.18.0->google-api-core!=2.0.*,!=2.1.*,!=2.2.*,!=2.3.0,<3.0.0dev,>=1.31.5->google-api-python-client) (3.0.4)\n",
            "Installing collected packages: google-auth-httplib2, google-api-python-client\n",
            "  Attempting uninstall: google-auth-httplib2\n",
            "    Found existing installation: google-auth-httplib2 0.0.4\n",
            "    Uninstalling google-auth-httplib2-0.0.4:\n",
            "      Successfully uninstalled google-auth-httplib2-0.0.4\n",
            "  Attempting uninstall: google-api-python-client\n",
            "    Found existing installation: google-api-python-client 1.12.11\n",
            "    Uninstalling google-api-python-client-1.12.11:\n",
            "      Successfully uninstalled google-api-python-client-1.12.11\n",
            "Successfully installed google-api-python-client-2.70.0 google-auth-httplib2-0.1.0\n"
          ]
        }
      ],
      "source": [
        "# cliente google\n",
        "!pip install --upgrade google-api-python-client"
      ]
    },
    {
      "cell_type": "code",
      "execution_count": null,
      "metadata": {
        "colab": {
          "base_uri": "https://localhost:8080/"
        },
        "id": "o3L3ibrFDBgU",
        "outputId": "9521c381-7dc0-4967-eabb-d139f433601d"
      },
      "outputs": [
        {
          "output_type": "stream",
          "name": "stdout",
          "text": [
            "Looking in indexes: https://pypi.org/simple, https://us-python.pkg.dev/colab-wheels/public/simple/\n",
            "Collecting python_dotenv\n",
            "  Downloading python_dotenv-0.21.0-py3-none-any.whl (18 kB)\n",
            "Installing collected packages: python-dotenv\n",
            "Successfully installed python-dotenv-0.21.0\n"
          ]
        }
      ],
      "source": [
        "# dotenv\n",
        "! pip install python_dotenv"
      ]
    },
    {
      "cell_type": "markdown",
      "metadata": {
        "id": "8JzE-cTfkBVU"
      },
      "source": [
        "**1.1. Conectando o Google Drive**\n",
        "\n",
        "A primeira importação vai ser do módulo que nos permite acessar nosso drive. Esse módulo é extremamente importante pois com ele posso resgatar minha chave de api, bem como abrir e manipular os arquivos que serão salvos em uma pasta que no meu Drive eu dedico exclusivamente a datasets. Você pode especificar o caminho que quiser dentro do seu drive pessoal para esses arquivos. "
      ]
    },
    {
      "cell_type": "code",
      "execution_count": null,
      "metadata": {
        "colab": {
          "base_uri": "https://localhost:8080/"
        },
        "id": "J5e4muc9rkcJ",
        "outputId": "cb0a2833-98a3-4159-8c61-ac38be754ffd"
      },
      "outputs": [
        {
          "output_type": "stream",
          "name": "stdout",
          "text": [
            "Mounted at /content/drive\n"
          ]
        }
      ],
      "source": [
        "from google.colab import drive\n",
        "drive.mount('/content/drive')"
      ]
    },
    {
      "cell_type": "markdown",
      "source": [
        "##2. Resgatando funções predefinidas"
      ],
      "metadata": {
        "id": "JowqcySgitg_"
      }
    },
    {
      "cell_type": "code",
      "execution_count": null,
      "metadata": {
        "id": "3i5Qe7qKWems"
      },
      "outputs": [],
      "source": [
        "import sys # biblioteca para adicionar funções definidas em arquivo separado"
      ]
    },
    {
      "cell_type": "code",
      "execution_count": null,
      "metadata": {
        "id": "JvuyWaN8UZ_Z"
      },
      "outputs": [],
      "source": [
        "sys.path.insert(0, '/content/drive/MyDrive/Colab Notebooks/youTube/ytRelated_extractor_v1/helpers')"
      ]
    },
    {
      "cell_type": "code",
      "execution_count": null,
      "metadata": {
        "id": "G7O82ysPXdZC"
      },
      "outputs": [],
      "source": [
        "from general import get_extraction_date\n",
        "from youtube import get_video_id, basic_search, deep_search"
      ]
    },
    {
      "cell_type": "markdown",
      "metadata": {
        "id": "Jj8nlxZ-q6iy"
      },
      "source": [
        "##4. Requisição e processamento dos dados\n",
        "\n",
        "Começamos aqui definindo nosso vídeo seed, a partir do qual vamos montar nossa rede de recomendações. Extraímos o id desse vídeo para realizar a rquisição inicial."
      ]
    },
    {
      "cell_type": "code",
      "execution_count": null,
      "metadata": {
        "colab": {
          "base_uri": "https://localhost:8080/"
        },
        "id": "SnbjdVlGjkcO",
        "outputId": "dc5a7df0-0e2f-4384-9aa1-9506dfc966bb"
      },
      "outputs": [
        {
          "name": "stdout",
          "output_type": "stream",
          "text": [
            "https://www.youtube.com/watch?v=XCKPLBi9bmE\n"
          ]
        }
      ],
      "source": [
        "link = input()\n",
        "video_id = get_video_id(link)"
      ]
    },
    {
      "cell_type": "code",
      "execution_count": null,
      "metadata": {
        "colab": {
          "base_uri": "https://localhost:8080/",
          "height": 35
        },
        "id": "vH1GTrh6Js0F",
        "outputId": "fa581dd5-79ce-420b-8fb1-865adeac52f3"
      },
      "outputs": [
        {
          "data": {
            "application/vnd.google.colaboratory.intrinsic+json": {
              "type": "string"
            },
            "text/plain": [
              "'XCKPLBi9bmE'"
            ]
          },
          "execution_count": 9,
          "metadata": {},
          "output_type": "execute_result"
        }
      ],
      "source": [
        "video_id # Tudo certo!"
      ]
    },
    {
      "cell_type": "code",
      "execution_count": null,
      "metadata": {
        "id": "Rx3kgX8IUTgz"
      },
      "outputs": [],
      "source": [
        "with open('/content/drive/MyDrive/Colab Notebooks/youTube/ytRelated_extractor_v1/log.txt', 'w') as f:\n",
        "  f.write(f'{video_id}\\n')"
      ]
    },
    {
      "cell_type": "markdown",
      "metadata": {
        "id": "03EmaJCJuRgY"
      },
      "source": [
        "**Realizando as requisições: controle de iterações e persistência dos dados**\n"
      ]
    },
    {
      "cell_type": "markdown",
      "metadata": {
        "id": "05HOS-Szxw1E"
      },
      "source": [
        "Vou definir aqui o caminho para o arquivo que será manipulado ao longo das requisições: "
      ]
    },
    {
      "cell_type": "code",
      "execution_count": null,
      "metadata": {
        "colab": {
          "base_uri": "https://localhost:8080/"
        },
        "id": "iJpi-rDwtDZJ",
        "outputId": "cebe8440-1e5c-401c-9ebe-4405f6ce5cb5"
      },
      "outputs": [
        {
          "name": "stdout",
          "output_type": "stream",
          "text": [
            "digite o nome do arquivo: teste\n"
          ]
        }
      ],
      "source": [
        "# Definindo caminho para arquivo que receberá os dados das requisições\n",
        "file_name = input('digite o nome do arquivo: ') + get_extraction_date()[1]\n",
        "path = f'/content/drive/MyDrive/Datasets/network_files/{file_name}.csv'"
      ]
    },
    {
      "cell_type": "code",
      "execution_count": null,
      "metadata": {
        "id": "Cx6JYlUuUQUF"
      },
      "outputs": [],
      "source": [
        "with open('/content/drive/MyDrive/Colab Notebooks/youTube/ytRelated_extractor_v1/log.txt', 'a') as f:\n",
        "  f.write(path)"
      ]
    },
    {
      "cell_type": "markdown",
      "metadata": {
        "id": "9Pj1plRL33CA"
      },
      "source": [
        "Agora sim começamos com as requisições. Inicializo a variável loop em zero e faço a primeira requisição com a id seed obtida anteriormente. No primeiro loop, crio o arquivo, abrindo em modo 'write', e armazeno os dados obtidos, fechando o arquivo em seguida."
      ]
    },
    {
      "cell_type": "code",
      "execution_count": null,
      "metadata": {
        "colab": {
          "base_uri": "https://localhost:8080/"
        },
        "id": "rTVyHFJh7YtU",
        "outputId": "86ee8a1f-1ac2-447e-a72f-d06b7797e931"
      },
      "outputs": [
        {
          "name": "stdout",
          "output_type": "stream",
          "text": [
            "extracting coords for video XCKPLBi9bmE...\n",
            "ok!\n"
          ]
        }
      ],
      "source": [
        "# Primeiro loop\n",
        "loop = 0 \n",
        "coords, next_loop_ids = basic_search(video_id)    \n",
        "    \n",
        "with open(path, 'w') as f:\n",
        "  writer = csv.DictWriter(f, fieldnames=['source', 'target', 'type'])\n",
        "  writer.writeheader()\n",
        "  \n",
        "  for source_id, target_id in zip(coords['source'], coords['target']):\n",
        "      row = {'source' : source_id, 'target' : target_id, 'type' : 'Direct'}  \n",
        "      writer.writerow(row)"
      ]
    },
    {
      "cell_type": "markdown",
      "metadata": {
        "id": "ucQO_6oCmMtM"
      },
      "source": [
        "O controle das iterações vai ser feito utilizando a constante MAX_DEPTH e a variável booleana next_loop. Por conta das limitações da chave de api, MAX_DEPTH vai ser definida com o valor de 2, ou seja, duas iterações a partir da requisição inicial. A cada loop, os dados serão armazenados em arquivo para evitar sobrecarga da RAM ou perda de dados caso ocorra algum erro durante as requisições."
      ]
    },
    {
      "cell_type": "code",
      "execution_count": null,
      "metadata": {
        "id": "VBvhLtjos40c"
      },
      "outputs": [],
      "source": [
        "MAX_DEPTH = 2\n",
        "next_loop = True"
      ]
    },
    {
      "cell_type": "code",
      "execution_count": null,
      "metadata": {
        "colab": {
          "base_uri": "https://localhost:8080/"
        },
        "id": "O6x9gfmltidO",
        "outputId": "17113bcc-821e-491a-a83e-51f6179277f1"
      },
      "outputs": [
        {
          "name": "stdout",
          "output_type": "stream",
          "text": [
            "Entering loop 1:\n",
            "extracting coords for video p4xRayAhAQs...\n",
            "ok!\n",
            "extracting coords for video nANSvLKRGTk...\n",
            "ok!\n",
            "extracting coords for video mRMGg04r_Bw...\n",
            "ok!\n",
            "Entering loop 2:\n",
            "extracting coords for video OHCc9-ygxPc...\n",
            "ok!\n",
            "extracting coords for video k1IzeKB0Ceg...\n",
            "ok!\n",
            "extracting coords for video haMaxmk06wo...\n",
            "ok!\n",
            "extracting coords for video xdVpKRj-ZUk...\n",
            "ok!\n",
            "extracting coords for video lW13aMZAEHw...\n",
            "ok!\n",
            "extracting coords for video dT1sxYTvcs4...\n",
            "ok!\n",
            "extracting coords for video I6P5jjZSEIE...\n",
            "ok!\n",
            "extracting coords for video 3QbOHnydfjw...\n",
            "ok!\n",
            "extracting coords for video gagIBqOg3M0...\n",
            "ok!\n"
          ]
        }
      ],
      "source": [
        "# Demais loops\n",
        "while next_loop:\n",
        "    loop += 1\n",
        "    print(f'Entering loop {loop}:')\n",
        "\n",
        "    loop_data = deep_search(next_loop_ids.copy())\n",
        "    next_loop_ids.clear()\n",
        "\n",
        "    with open(path, 'a') as f:\n",
        "      writer = csv.DictWriter(f, fieldnames=['source', 'target', 'type']) # abro o arquivo em modo 'a' a cada novo loop\n",
        "\n",
        "      for data in loop_data:  \n",
        "        coords = data[0]\n",
        "        next_loop_ids += data[1]\n",
        "        \n",
        "        for source_id, target_id in zip(coords['source'], coords['target']):\n",
        "          row = {'source' : source_id, 'target' : target_id, 'type' : 'Direct'}  \n",
        "          writer.writerow(row)\n",
        "\n",
        "    if loop == MAX_DEPTH:\n",
        "      next_loop = False   "
      ]
    },
    {
      "cell_type": "markdown",
      "metadata": {
        "id": "kfumc7K6M-it"
      },
      "source": [
        "**Obtendo os detalhes dos vídeos pesquisados**\n",
        "\n",
        "Agora que obtemos todas as ids possíveis dos vídeos relacionados à nossa seed em duas iterações, vamos resgatar os detalhes de cada um, como visualizações e quantidade de comentários, para armazenarmos também em uma planilha, que será a planilha referente aos nós da nossa rede: "
      ]
    }
  ],
  "metadata": {
    "colab": {
      "provenance": [],
      "include_colab_link": true
    },
    "kernelspec": {
      "display_name": "Python 3.9.7 64-bit",
      "language": "python",
      "name": "python3"
    },
    "language_info": {
      "name": "python",
      "version": "3.9.7 (tags/v3.9.7:1016ef3, Aug 30 2021, 20:19:38) [MSC v.1929 64 bit (AMD64)]"
    },
    "vscode": {
      "interpreter": {
        "hash": "1f0e6e82f76565d179ba3e7b4f3766adc29c2e9c8a5d83c58b8c627b6db43585"
      }
    }
  },
  "nbformat": 4,
  "nbformat_minor": 0
}