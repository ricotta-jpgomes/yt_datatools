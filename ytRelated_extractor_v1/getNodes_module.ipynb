{
  "nbformat": 4,
  "nbformat_minor": 0,
  "metadata": {
    "colab": {
      "provenance": [],
      "mount_file_id": "1DvzGCuXJbrrdqLAvZJURNPkC9gV3LwUm",
      "authorship_tag": "ABX9TyM2uMcP/GnX1YfVhteVgF9f",
      "include_colab_link": true
    },
    "kernelspec": {
      "name": "python3",
      "display_name": "Python 3"
    },
    "language_info": {
      "name": "python"
    }
  },
  "cells": [
    {
      "cell_type": "markdown",
      "metadata": {
        "id": "view-in-github",
        "colab_type": "text"
      },
      "source": [
        "<a href=\"https://colab.research.google.com/github/ricotta-jpgomes/yt_datatools/blob/main/ytRelated_extractor_v1/getNodes_module.ipynb\" target=\"_parent\"><img src=\"https://colab.research.google.com/assets/colab-badge.svg\" alt=\"Open In Colab\"/></a>"
      ]
    },
    {
      "cell_type": "markdown",
      "source": [
        "# Get nodes: obtendo os detalhes dos vídeos pesquisados\n",
        "<br>Agora que temos as ids possíveis dos vídeos recomendados em relação à nossa seed, vamos retomar as requisições para obter os detalhes de cada um, como visualizações e quantidade de comentários, que serão armazenados também em uma planilha, que será a planilha referente aos nós da nossa rede. A primeira etapa dessa extração pode ser encontrada [nesse notebook](https://github.com/ricotta-jpgomes/yt_datatools/blob/main/ytRelated_extractor_v1/getEdges_module.ipynb)"
      ],
      "metadata": {
        "id": "kfumc7K6M-it"
      }
    },
    {
      "cell_type": "markdown",
      "source": [
        "##1. Instalando e importando Dependências"
      ],
      "metadata": {
        "id": "Gakcp2h60vUu"
      }
    },
    {
      "cell_type": "code",
      "execution_count": null,
      "metadata": {
        "colab": {
          "base_uri": "https://localhost:8080/"
        },
        "id": "HwQI1_hST2mN",
        "outputId": "3247c5fa-d0ac-4553-aecc-8d415c952520"
      },
      "outputs": [
        {
          "output_type": "stream",
          "name": "stdout",
          "text": [
            "Looking in indexes: https://pypi.org/simple, https://us-python.pkg.dev/colab-wheels/public/simple/\n",
            "Requirement already satisfied: google-api-python-client in /usr/local/lib/python3.8/dist-packages (1.12.11)\n",
            "Collecting google-api-python-client\n",
            "  Downloading google_api_python_client-2.69.0-py2.py3-none-any.whl (10.7 MB)\n",
            "\u001b[K     |████████████████████████████████| 10.7 MB 7.5 MB/s \n",
            "\u001b[?25hRequirement already satisfied: google-auth<3.0.0dev,>=1.19.0 in /usr/local/lib/python3.8/dist-packages (from google-api-python-client) (2.15.0)\n",
            "Requirement already satisfied: google-api-core!=2.0.*,!=2.1.*,!=2.2.*,!=2.3.0,<3.0.0dev,>=1.31.5 in /usr/local/lib/python3.8/dist-packages (from google-api-python-client) (2.8.2)\n",
            "Requirement already satisfied: httplib2<1dev,>=0.15.0 in /usr/local/lib/python3.8/dist-packages (from google-api-python-client) (0.17.4)\n",
            "Requirement already satisfied: uritemplate<5,>=3.0.1 in /usr/local/lib/python3.8/dist-packages (from google-api-python-client) (3.0.1)\n",
            "Collecting google-auth-httplib2>=0.1.0\n",
            "  Downloading google_auth_httplib2-0.1.0-py2.py3-none-any.whl (9.3 kB)\n",
            "Requirement already satisfied: protobuf<5.0.0dev,>=3.15.0 in /usr/local/lib/python3.8/dist-packages (from google-api-core!=2.0.*,!=2.1.*,!=2.2.*,!=2.3.0,<3.0.0dev,>=1.31.5->google-api-python-client) (3.19.6)\n",
            "Requirement already satisfied: requests<3.0.0dev,>=2.18.0 in /usr/local/lib/python3.8/dist-packages (from google-api-core!=2.0.*,!=2.1.*,!=2.2.*,!=2.3.0,<3.0.0dev,>=1.31.5->google-api-python-client) (2.23.0)\n",
            "Requirement already satisfied: googleapis-common-protos<2.0dev,>=1.56.2 in /usr/local/lib/python3.8/dist-packages (from google-api-core!=2.0.*,!=2.1.*,!=2.2.*,!=2.3.0,<3.0.0dev,>=1.31.5->google-api-python-client) (1.57.0)\n",
            "Requirement already satisfied: cachetools<6.0,>=2.0.0 in /usr/local/lib/python3.8/dist-packages (from google-auth<3.0.0dev,>=1.19.0->google-api-python-client) (5.2.0)\n",
            "Requirement already satisfied: pyasn1-modules>=0.2.1 in /usr/local/lib/python3.8/dist-packages (from google-auth<3.0.0dev,>=1.19.0->google-api-python-client) (0.2.8)\n",
            "Requirement already satisfied: rsa<5,>=3.1.4 in /usr/local/lib/python3.8/dist-packages (from google-auth<3.0.0dev,>=1.19.0->google-api-python-client) (4.9)\n",
            "Requirement already satisfied: six>=1.9.0 in /usr/local/lib/python3.8/dist-packages (from google-auth<3.0.0dev,>=1.19.0->google-api-python-client) (1.15.0)\n",
            "Requirement already satisfied: pyasn1<0.5.0,>=0.4.6 in /usr/local/lib/python3.8/dist-packages (from pyasn1-modules>=0.2.1->google-auth<3.0.0dev,>=1.19.0->google-api-python-client) (0.4.8)\n",
            "Requirement already satisfied: certifi>=2017.4.17 in /usr/local/lib/python3.8/dist-packages (from requests<3.0.0dev,>=2.18.0->google-api-core!=2.0.*,!=2.1.*,!=2.2.*,!=2.3.0,<3.0.0dev,>=1.31.5->google-api-python-client) (2022.9.24)\n",
            "Requirement already satisfied: idna<3,>=2.5 in /usr/local/lib/python3.8/dist-packages (from requests<3.0.0dev,>=2.18.0->google-api-core!=2.0.*,!=2.1.*,!=2.2.*,!=2.3.0,<3.0.0dev,>=1.31.5->google-api-python-client) (2.10)\n",
            "Requirement already satisfied: chardet<4,>=3.0.2 in /usr/local/lib/python3.8/dist-packages (from requests<3.0.0dev,>=2.18.0->google-api-core!=2.0.*,!=2.1.*,!=2.2.*,!=2.3.0,<3.0.0dev,>=1.31.5->google-api-python-client) (3.0.4)\n",
            "Requirement already satisfied: urllib3!=1.25.0,!=1.25.1,<1.26,>=1.21.1 in /usr/local/lib/python3.8/dist-packages (from requests<3.0.0dev,>=2.18.0->google-api-core!=2.0.*,!=2.1.*,!=2.2.*,!=2.3.0,<3.0.0dev,>=1.31.5->google-api-python-client) (1.24.3)\n",
            "Installing collected packages: google-auth-httplib2, google-api-python-client\n",
            "  Attempting uninstall: google-auth-httplib2\n",
            "    Found existing installation: google-auth-httplib2 0.0.4\n",
            "    Uninstalling google-auth-httplib2-0.0.4:\n",
            "      Successfully uninstalled google-auth-httplib2-0.0.4\n",
            "  Attempting uninstall: google-api-python-client\n",
            "    Found existing installation: google-api-python-client 1.12.11\n",
            "    Uninstalling google-api-python-client-1.12.11:\n",
            "      Successfully uninstalled google-api-python-client-1.12.11\n",
            "Successfully installed google-api-python-client-2.69.0 google-auth-httplib2-0.1.0\n"
          ]
        }
      ],
      "source": [
        "# cliente google\n",
        "!pip install --upgrade google-api-python-client"
      ]
    },
    {
      "cell_type": "code",
      "source": [
        "# dotenv\n",
        "! pip install python_dotenv"
      ],
      "metadata": {
        "colab": {
          "base_uri": "https://localhost:8080/"
        },
        "id": "o3L3ibrFDBgU",
        "outputId": "9139cbd9-257d-485e-c138-8690283f3a40"
      },
      "execution_count": null,
      "outputs": [
        {
          "output_type": "stream",
          "name": "stdout",
          "text": [
            "Looking in indexes: https://pypi.org/simple, https://us-python.pkg.dev/colab-wheels/public/simple/\n",
            "Collecting python_dotenv\n",
            "  Downloading python_dotenv-0.21.0-py3-none-any.whl (18 kB)\n",
            "Installing collected packages: python-dotenv\n",
            "Successfully installed python-dotenv-0.21.0\n"
          ]
        }
      ]
    },
    {
      "cell_type": "markdown",
      "source": [
        "**1.1. Conectando o Google Drive**"
      ],
      "metadata": {
        "id": "uIJuxXROqTRo"
      }
    },
    {
      "cell_type": "code",
      "source": [
        "from google.colab import drive\n",
        "drive.mount('/content/drive')"
      ],
      "metadata": {
        "colab": {
          "base_uri": "https://localhost:8080/"
        },
        "id": "J5e4muc9rkcJ",
        "outputId": "baa78868-4ae8-4e95-e91c-1a7942d0bc63"
      },
      "execution_count": null,
      "outputs": [
        {
          "output_type": "stream",
          "name": "stdout",
          "text": [
            "Drive already mounted at /content/drive; to attempt to forcibly remount, call drive.mount(\"/content/drive\", force_remount=True).\n"
          ]
        }
      ]
    },
    {
      "cell_type": "markdown",
      "source": [
        "##2. Resgatando funções predefinidas"
      ],
      "metadata": {
        "id": "JowqcySgitg_"
      }
    },
    {
      "cell_type": "code",
      "execution_count": null,
      "metadata": {
        "id": "6fTcngHG1KYM"
      },
      "outputs": [],
      "source": [
        "import sys # biblioteca utilizada para resgatar funções definidas em arquivos .py separados"
      ]
    },
    {
      "cell_type": "code",
      "execution_count": null,
      "metadata": {
        "id": "JvuyWaN8UZ_Z"
      },
      "outputs": [],
      "source": [
        "# adicionando caminho para a pasta com os arquivos .py externos\n",
        "sys.path.insert(0, '/content/drive/MyDrive/Colab Notebooks/youTube/ytRelated_extractor_v1/helpers') "
      ]
    },
    {
      "cell_type": "markdown",
      "source": [],
      "metadata": {
        "id": "P7QfDkkcq7dL"
      }
    },
    {
      "cell_type": "code",
      "execution_count": null,
      "metadata": {
        "id": "G7O82ysPXdZC"
      },
      "outputs": [],
      "source": [
        "from general import get_extraction_date # função para obter a data de extração dos dados\n",
        "from youtube import get_video_details # função para obter detalhes de um vídeo a partir do seu id"
      ]
    },
    {
      "cell_type": "markdown",
      "source": [
        "## 3. Recuperando dados de log.txt e fazendo as requisições"
      ],
      "metadata": {
        "id": "DZApeNzS110Z"
      }
    },
    {
      "cell_type": "code",
      "execution_count": null,
      "metadata": {
        "id": "RJOKdANlS-Hk"
      },
      "outputs": [],
      "source": [
        "with open('/content/drive/MyDrive/Colab Notebooks/youTube/ytRelated_extractor_v1/log.txt', 'r') as f:\n",
        "  video_id = f.readline() # id do meu vídeo seed\n",
        "  path = f.readline() # caminho do arquivo com as coordenadas de source - target\n",
        "  \n",
        "  videos_ids = [video_id] # crio uma lista contendo meu vídeo seed\n",
        "\n",
        "  # adiciono o id dos vídeos obtidos na primeira etapa da extração à lista já definida \n",
        "  with open(path, 'r') as f: \n",
        "      reader = csv.DictReader(f)\n",
        "      for row in reader:\n",
        "        videos_ids.append(row['target'])"
      ]
    },
    {
      "cell_type": "markdown",
      "source": [
        "Eu puxo as ids pela coluna 'target' pois é a coluna onde cada id aparece apenas uma vez, ao contrário da coluna 'source', onde as ids se repetem pela quantidade de vídeos relacionados. Além disso, as ids dos vídeos obtidas na última iteração não constam na coluna 'source', uma vez que elas só seriam adicionadas ali caso houvesse uma nova iteração. Pegando as ids pela coluna 'target' nenhuma fica de fora."
      ],
      "metadata": {
        "id": "9VKSwhzzYe_c"
      }
    },
    {
      "cell_type": "markdown",
      "source": [
        "**3.1. Obtendo os dados**\n",
        "<br>\n",
        "<br>\n",
        "Agora, para cada id coletada na primeira etapa do processo, vamos buscar via api informações relativas ao vídeo correspondente."
      ],
      "metadata": {
        "id": "4xi0E3utrLMO"
      }
    },
    {
      "cell_type": "code",
      "source": [
        "videos_details = [] # as informações (em dicionário) serão adicionadas nessa lista\n",
        "\n",
        "for id in videos_ids:\n",
        "  video_info = get_video_details(id)\n",
        "\n",
        "  videos_details.append(video_info) "
      ],
      "metadata": {
        "id": "yhEkjstkiQrZ"
      },
      "execution_count": null,
      "outputs": []
    },
    {
      "cell_type": "markdown",
      "source": [
        "## 4. Salvando os dados obtidos"
      ],
      "metadata": {
        "id": "zsdJkbiM23bs"
      }
    },
    {
      "cell_type": "code",
      "execution_count": null,
      "metadata": {
        "id": "3i5Qe7qKWems"
      },
      "outputs": [],
      "source": [
        "import csv # biblioteca para manipulação de arquivos .csv"
      ]
    },
    {
      "cell_type": "markdown",
      "source": [
        "Vou começar definindo o nome e o caminho correspondente para o arquivo que irá receber os dados coletados:"
      ],
      "metadata": {
        "id": "ioegyQgO6Lfe"
      }
    },
    {
      "cell_type": "code",
      "execution_count": null,
      "metadata": {
        "colab": {
          "base_uri": "https://localhost:8080/"
        },
        "id": "iJpi-rDwtDZJ",
        "outputId": "cebe8440-1e5c-401c-9ebe-4405f6ce5cb5"
      },
      "outputs": [
        {
          "name": "stdout",
          "output_type": "stream",
          "text": [
            "digite o nome do arquivo: teste\n"
          ]
        }
      ],
      "source": [
        "# Definindo caminho para arquivo que receberá os dados das requisições\n",
        "file_name = input('digite o nome do arquivo: ') + get_extraction_date()[1]\n",
        "path = f'/content/drive/MyDrive/Datasets/network_files/{file_name}.csv'"
      ]
    },
    {
      "cell_type": "code",
      "source": [
        "# Cabeçalho da tabela final\n",
        "headers = ['videoId', 'title', 'description', 'publishedAt', 'channelId', \n",
        "           'channelTitle', 'views', 'likes', 'comments' ]\n",
        "\n",
        "# Gerando e gravando meu arquivo .csv\n",
        "with open(path, 'w') as f:\n",
        "  writer = csv.DictWriter(f, fieldnames=headers)\n",
        "  writer.writeheader()\n",
        "\n",
        "  for row in videos_details:\n",
        "    writer.writerow(row)"
      ],
      "metadata": {
        "id": "eKiBn6uz0sEo"
      },
      "execution_count": null,
      "outputs": []
    }
  ]
}